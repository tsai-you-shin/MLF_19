{
 "cells": [
  {
   "cell_type": "code",
   "execution_count": 1,
   "metadata": {},
   "outputs": [],
   "source": [
    "import numpy as np\n",
    "import matplotlib.pyplot as plt"
   ]
  },
  {
   "cell_type": "markdown",
   "metadata": {},
   "source": [
    "# P_3"
   ]
  },
  {
   "cell_type": "code",
   "execution_count": 2,
   "metadata": {},
   "outputs": [],
   "source": [
    "def compute(N,err):\n",
    "    delta = 0.05\n",
    "    dvc = 10\n",
    "    res = np.sqrt(8/N*np.log(4*pow(2*N,dvc)/delta))\n",
    "    return res-err"
   ]
  },
  {
   "cell_type": "code",
   "execution_count": 3,
   "metadata": {},
   "outputs": [
    {
     "name": "stdout",
     "output_type": "stream",
     "text": [
      "0.0017859326997057556\n",
      "0.0006788100777323711\n",
      "-0.00035722109082931414\n",
      "-0.0013295243038941099\n",
      "-0.002244433670732529\n"
     ]
    }
   ],
   "source": [
    "print(compute(420000,0.05))\n",
    "print(compute(440000,0.05))\n",
    "print(compute(460000,0.05))\n",
    "print(compute(480000,0.05))\n",
    "print(compute(500000,0.05))"
   ]
  },
  {
   "cell_type": "markdown",
   "metadata": {},
   "source": [
    "# P17 and P18"
   ]
  },
  {
   "cell_type": "code",
   "execution_count": 4,
   "metadata": {},
   "outputs": [],
   "source": [
    "def cal_Ein(X,Y):\n",
    "    best_s = 1\n",
    "    best_theta = 0\n",
    "    best_err = datasize\n",
    "    x1 = np.sort(X)\n",
    "    for i in range (datasize+1):\n",
    "        if i == 0:\n",
    "            theta = 0.5 * (x1[i]-1)\n",
    "        elif i == datasize:\n",
    "            theta = 0.5 * (x1[i-1]+1)\n",
    "        else:\n",
    "            theta = 0.5 * (x1[i] + x1[i-1])\n",
    "             \n",
    "        y1 = np.sign(X-theta)\n",
    "        y2 = (-1) * np.sign(X-theta)\n",
    "        \n",
    "        error1 = np.sum(y1!=Y)\n",
    "        error2 = np.sum(y2!=Y)\n",
    "        #print(error1, error2)\n",
    "        if error1 < best_err:\n",
    "            best_err = error1\n",
    "            best_theta = theta\n",
    "            best_s = 1\n",
    "        if error2 < best_err:\n",
    "            best_err = error2\n",
    "            best_theta = theta\n",
    "            best_s = -1\n",
    "            \n",
    "    return best_err/datasize, best_s, best_theta\n",
    "                \n",
    "def cal_Eout(s,t):\n",
    "    return 0.5 + 0.3 * s * (abs(t)-1)"
   ]
  },
  {
   "cell_type": "code",
   "execution_count": 10,
   "metadata": {},
   "outputs": [],
   "source": [
    "def algorithm(datasize, times):\n",
    "    diff_Ein_out = []\n",
    "    E_in = []\n",
    "    E_out = []\n",
    "    for i in range (times):\n",
    "        ## Generate 20 data pairs X,Y\n",
    "        X = np.zeros(datasize)\n",
    "        Y = np.zeros(datasize)\n",
    "        X = np.random.uniform(-1, 1, datasize)\n",
    "        for j in range(datasize):\n",
    "            if np.random.uniform(0,1) < 0.2:\n",
    "                Y[j] = -1 * np.sign(X[j])\n",
    "            else:\n",
    "                Y[j] = np.sign(X[j])\n",
    "\n",
    "        Ein , s, t = cal_Ein(X,Y)\n",
    "        Eout =  cal_Eout(s,t)\n",
    "        diff_Ein_out.append(Eout-Ein)\n",
    "        E_in.append(Ein)\n",
    "        E_out.append(Eout)\n",
    "    print(\"Ein = \",np.mean(E_in))\n",
    "    print(\"Eout = \", np.mean(E_out))\n",
    "    return diff_Ein_out"
   ]
  },
  {
   "cell_type": "code",
   "execution_count": 11,
   "metadata": {},
   "outputs": [
    {
     "name": "stdout",
     "output_type": "stream",
     "text": [
      "Ein =  0.1691\n",
      "Eout =  0.25715862753447183\n",
      "E_out-E_in =  0.08805862753447181\n"
     ]
    }
   ],
   "source": [
    "datasize = 20\n",
    "times = 5000\n",
    "output = algorithm(datasize, times)\n",
    "print(\"E_out-E_in = \",np.mean(output))\n"
   ]
  },
  {
   "cell_type": "markdown",
   "metadata": {},
   "source": [
    "# P_19 and P_20"
   ]
  },
  {
   "cell_type": "code",
   "execution_count": 12,
   "metadata": {},
   "outputs": [],
   "source": [
    "train_data = np.genfromtxt('hw2_train.dat')\n",
    "test_data = np.genfromtxt('hw2_test.dat')\n",
    "r_train, c_train = train_data.shape\n",
    "r_test, c_test = test_data.shape\n",
    "train_x = train_data[:,:-1]\n",
    "train_y = train_data[:,-1]\n",
    "test_x = test_data[:,:-1]\n",
    "test_y = test_data[:,-1]"
   ]
  },
  {
   "cell_type": "code",
   "execution_count": 13,
   "metadata": {},
   "outputs": [],
   "source": [
    "def errorrate(x,y,s,theta, dim):\n",
    "    num = 0\n",
    "    for i in range(x.shape[0]):\n",
    "        if (x[i][dim] - theta)*y[i]*s < 0:\n",
    "            num += 1\n",
    "    \n",
    "    return num/x.shape[0]\n",
    "            \n",
    "    \n",
    "def decisionStump(x,y):\n",
    "    datasize = x.shape[0]\n",
    "    dimension = x.shape[1]\n",
    "    diff_Ein_out = []\n",
    "    E_in = 1\n",
    "    best_dim = -1\n",
    "    besy_theta = -1\n",
    "    best_s = 1\n",
    "    \n",
    "    for dim in range(dimension):\n",
    "        chose_x = np.sort(x[:,dim])\n",
    "        ss = [1,-1]\n",
    "        for theta in chose_x:\n",
    "            for s in ss:\n",
    "                E = errorrate(x, y, s, theta, dim)\n",
    "                if E < E_in:\n",
    "                    E_in = E\n",
    "                    best_s = s\n",
    "                    best_dim = dim\n",
    "                    best_theta = theta\n",
    "                    \n",
    "    return best_s, best_theta, best_dim, E_in"
   ]
  },
  {
   "cell_type": "code",
   "execution_count": 14,
   "metadata": {},
   "outputs": [
    {
     "name": "stdout",
     "output_type": "stream",
     "text": [
      "0.25 0.355\n"
     ]
    }
   ],
   "source": [
    "s, theta, dim, E_in = decisionStump(train_x,train_y)\n",
    "E_out = errorrate(test_x, test_y, s, theta, dim)\n",
    "print(E_in, E_out)"
   ]
  },
  {
   "cell_type": "code",
   "execution_count": null,
   "metadata": {},
   "outputs": [],
   "source": []
  }
 ],
 "metadata": {
  "kernelspec": {
   "display_name": "Python 3",
   "language": "python",
   "name": "python3"
  },
  "language_info": {
   "codemirror_mode": {
    "name": "ipython",
    "version": 3
   },
   "file_extension": ".py",
   "mimetype": "text/x-python",
   "name": "python",
   "nbconvert_exporter": "python",
   "pygments_lexer": "ipython3",
   "version": "3.6.8"
  }
 },
 "nbformat": 4,
 "nbformat_minor": 2
}
