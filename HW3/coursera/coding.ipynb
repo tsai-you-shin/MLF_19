{
 "cells": [
  {
   "cell_type": "markdown",
   "metadata": {},
   "source": [
    "## P7"
   ]
  },
  {
   "cell_type": "code",
   "execution_count": 7,
   "metadata": {},
   "outputs": [],
   "source": [
    "import math\n",
    "def E(u,v):\n",
    "    return math.e**u + math.e**(2*v) + math.e**(u*v) + u**2 - 2*u*v + 2*v**2 - 3*u -2*v\n",
    "def E_u(u,v):\n",
    "    return math.e**u + v*math.e**(u*v) + 2*u - 2*v - 3\n",
    "def E_v(u,v):\n",
    "    return 2*math.e**(2*v) + u*math.e**(u*v) - 2*u + 4*v - 2\n",
    "\n",
    "    "
   ]
  },
  {
   "cell_type": "code",
   "execution_count": 8,
   "metadata": {},
   "outputs": [
    {
     "name": "stdout",
     "output_type": "stream",
     "text": [
      "2.824909495379789\n"
     ]
    }
   ],
   "source": [
    "u,v = 0,0\n",
    "for t in range (5):\n",
    "    u = u - 0.01* E_u(u,v)\n",
    "    v = v - 0.01* E_v(u,v)\n",
    "print(E(u,v))"
   ]
  },
  {
   "cell_type": "markdown",
   "metadata": {},
   "source": [
    "## P10"
   ]
  },
  {
   "cell_type": "code",
   "execution_count": 1,
   "metadata": {},
   "outputs": [],
   "source": [
    "import math\n",
    "def E(u,v):\n",
    "    return math.e**u + math.e**(2*v) + math.e**(u*v) + u**2 - 2*u*v + 2*v**2 - 3*u -2*v\n",
    "def E_u(u,v):\n",
    "    return math.e**u + v*math.e**(u*v) + 2*u - 2*v - 3\n",
    "def E_v(u,v):\n",
    "    return 2*math.e**(2*v) + u*math.e**(u*v) - 2*u + 4*v - 2\n",
    "def E_u2(u,v):\n",
    "    return math.e**u + v**2*math.e**(u*v) + 2\n",
    "def E_v2(u,v):\n",
    "    return 4*math.e**(2*v) + u**2*math.e**(u*v) + 4"
   ]
  },
  {
   "cell_type": "code",
   "execution_count": 2,
   "metadata": {},
   "outputs": [
    {
     "name": "stdout",
     "output_type": "stream",
     "text": [
      "2.360823345643142\n"
     ]
    }
   ],
   "source": [
    "u,v = 0,0\n",
    "for t in range (5):\n",
    "    u = u - 1/ E_u2(u,v)* E_u(u,v)\n",
    "    v = v - 1/ E_v2(u,v)* E_v(u,v)\n",
    "print(E(u,v))"
   ]
  },
  {
   "cell_type": "markdown",
   "metadata": {},
   "source": [
    "## P13"
   ]
  },
  {
   "cell_type": "code",
   "execution_count": 3,
   "metadata": {},
   "outputs": [
    {
     "name": "stdout",
     "output_type": "stream",
     "text": [
      "0.5568679999999994\n"
     ]
    }
   ],
   "source": [
    "import numpy as np\n",
    "\n",
    "## data initial\n",
    "N = 1000\n",
    "lst = []\n",
    "for t in range(1000):\n",
    "    x1 = np.random.uniform(-1, 1, (N,1))\n",
    "    x2 = np.random.uniform(-1, 1, (N,1))\n",
    "    prob = np.random.uniform(0,1,(N,1))\n",
    "    y = np.sign(x1**2 + x2**2 - 0.6) * (prob >= 0.1)\n",
    "    x = np.mat(np.concatenate((np.ones((N,1)),x1, x2), axis=1))\n",
    "\n",
    "    ## to get w_lin , we need to calculate pseudo_inverse\n",
    "    pseu_inv = np.linalg.pinv(x)\n",
    "    w = pseu_inv * y\n",
    "    y_hat = x*w\n",
    "    errorNum = np.sum(y!=np.sign(y_hat))\n",
    "    lst.append(errorNum/N)\n",
    "print(sum(lst)/len(lst))"
   ]
  },
  {
   "cell_type": "markdown",
   "metadata": {},
   "source": [
    "## P14"
   ]
  },
  {
   "cell_type": "code",
   "execution_count": 3,
   "metadata": {},
   "outputs": [
    {
     "name": "stdout",
     "output_type": "stream",
     "text": [
      "0.33500800000000025\n",
      "0.336091\n",
      "0.3068829999999994\n",
      "0.034374999999999975\n",
      "0.3677350000000003\n"
     ]
    }
   ],
   "source": [
    "N = 1000\n",
    "lst = []\n",
    "para = np.array([[[-1], [-0.05], [0.08], [0.13], [1.5], [15]],\n",
    "         [[-1], [-0.05], [0.08], [0.13], [15], [1.5]],\n",
    "         [[-1], [-1.5], [0.08], [0.13], [0.05],[ 1.5]],\n",
    "         [[-1], [-0.05], [0.08], [0.13],[1.5], [1.5]],\n",
    "         [[-1], [-1.5], [0.08],[0.13], [0.05], [0.05]]])\n",
    "\n",
    "for i in range (5):\n",
    "    for t in range(1000):\n",
    "        x1 = np.random.uniform(-1, 1, (N,1))\n",
    "        x2 = np.random.uniform(-1, 1, (N,1))\n",
    "        prob = np.random.uniforｍ(0,1,(N,1))\n",
    "        y = np.sign(x1**2 + x2**2 - 0.6) * (prob >= 0.1)\n",
    "        x = np.mat(np.concatenate((np.ones((N,1)),x1, x2, x1*x2, x1*x1, x2*x2), axis=1))\n",
    "        pseu_inv = np.linalg.pinv(x)\n",
    "        w = pseu_inv * y\n",
    "        y_hat = x*w\n",
    "    \n",
    "        y_hat_2 = x*para[i]\n",
    "        errorNum = np.sum(np.sign(y_hat)!=np.sign(y_hat_2))\n",
    "        lst.append(errorNum/N)\n",
    "        \n",
    "    print(sum(lst)/len(lst))\n",
    "    lst.clear()"
   ]
  },
  {
   "cell_type": "markdown",
   "metadata": {},
   "source": [
    "## P15"
   ]
  },
  {
   "cell_type": "code",
   "execution_count": 19,
   "metadata": {},
   "outputs": [
    {
     "name": "stdout",
     "output_type": "stream",
     "text": [
      "0.379307\n",
      "0.38043\n",
      "0.377348\n",
      "0.148627\n",
      "0.446336\n"
     ]
    }
   ],
   "source": [
    "import statistics \n",
    "N = 1000\n",
    "lst = []\n",
    "para = np.array([[[-1], [-0.05], [0.08], [0.13], [1.5], [15]],\n",
    "         [[-1], [-0.05], [0.08], [0.13], [15], [1.5]],\n",
    "         [[-1], [-1.5], [0.08], [0.13], [0.05],[ 1.5]],\n",
    "         [[-1], [-0.05], [0.08], [0.13],[1.5], [1.5]],\n",
    "         [[-1], [-1.5], [0.08],[0.13], [0.05], [0.05]]])\n",
    "\n",
    "for i in range (5):\n",
    "    lst.clear()\n",
    "    for t in range(1000):\n",
    "        x1 = np.random.uniform(-1, 1, (N,1))\n",
    "        x2 = np.random.uniform(-1, 1, (N,1))\n",
    "        prob = np.random.uniforｍ(0,1,(N,1))\n",
    "        y = np.sign(x1**2 + x2**2 - 0.6) * (prob >= 0.1)\n",
    "        x = np.mat(np.concatenate((np.ones((N,1)),x1, x2, x1*x2, x1*x1, x2*x2), axis=1))\n",
    "\n",
    "        ## to get w_lin , we need to calculate pseudo_inverse\n",
    "        y_hat = x*para[i]\n",
    "        errorNum = np.sum(y!=np.sign(y_hat))\n",
    "        lst.append(errorNum/N)\n",
    "    print(statistics.mean(lst))\n",
    "    "
   ]
  },
  {
   "cell_type": "markdown",
   "metadata": {},
   "source": [
    "## P18"
   ]
  },
  {
   "cell_type": "code",
   "execution_count": 4,
   "metadata": {},
   "outputs": [],
   "source": [
    "import numpy as np\n",
    "train_data = np.genfromtxt('hw3_train.dat')\n",
    "test_data = np.genfromtxt('hw3_test.dat')\n",
    "train_r,train_c = train_data.shape\n",
    "test_r,test_c = test_data.shape\n",
    "\n",
    "ita = 0.001\n",
    "times = 2000"
   ]
  },
  {
   "cell_type": "code",
   "execution_count": 5,
   "metadata": {},
   "outputs": [
    {
     "name": "stdout",
     "output_type": "stream",
     "text": [
      "0.475\n"
     ]
    }
   ],
   "source": [
    "FGD_in_1000 = []\n",
    "FGD_out_1000 = []\n",
    "\n",
    "#training data\n",
    "x_train = np.concatenate((np.ones((train_r, 1)), train_data[:, : -1]), axis = 1)\n",
    "y_train = train_data[:,-1]\n",
    "y_train = np.expand_dims(y_train, axis=1)\n",
    "\n",
    "\n",
    "x_test = np.concatenate((np.ones((test_r, 1)), test_data[:, : -1]), axis = 1)\n",
    "y_test = test_data[:,-1]\n",
    "y_test = np.expand_dims(y_test, axis=1)\n",
    "\n",
    "\n",
    "#initial w\n",
    "w = np.zeros((x_train[0].size,1))\n",
    "\n",
    "def sigmoid(x):\n",
    "    return 1/(1+np.exp(-x))\n",
    "\n",
    "def gradient(w, x, y):\n",
    "    gsum = (-y*x).T.dot(sigmoid(-y *np.dot(x,w)))\n",
    "    return gsum/len(y)\n",
    "\n",
    "for t in range(times-1):\n",
    "    w = w- ita* gradient(w, x_train, y_train)\n",
    "    \n",
    "    y_hat = np.dot(x_train,w)\n",
    "    errorNum = np.sum(np.sign(y_hat)!=np.sign(y_train))\n",
    "    FGD_in_1000.append(errorNum/len(y_train))\n",
    "\n",
    "    y_hat = np.dot(x_test,w)\n",
    "    errorNum = np.sum(np.sign(y_hat)!=np.sign(y_test))\n",
    "    FGD_out_1000.append(errorNum/len(y_test))\n",
    "\n",
    "print(FGD_out_1000[-1])"
   ]
  },
  {
   "cell_type": "markdown",
   "metadata": {},
   "source": [
    "## P19"
   ]
  },
  {
   "cell_type": "code",
   "execution_count": 6,
   "metadata": {},
   "outputs": [],
   "source": [
    "ita = 0.01\n",
    "times = 2000"
   ]
  },
  {
   "cell_type": "code",
   "execution_count": 9,
   "metadata": {},
   "outputs": [
    {
     "name": "stdout",
     "output_type": "stream",
     "text": [
      "0.22\n"
     ]
    }
   ],
   "source": [
    "FGD_in_100 = []\n",
    "FGD_out_100 = []\n",
    "\n",
    "#training data\n",
    "x_train = np.concatenate((np.ones((train_r, 1)), train_data[:, : -1]), axis = 1)\n",
    "y_train = train_data[:,-1]\n",
    "y_train = np.expand_dims(y_train, axis=1)\n",
    "\n",
    "\n",
    "x_test = np.concatenate((np.ones((test_r, 1)), test_data[:, : -1]), axis = 1)\n",
    "y_test = test_data[:,-1]\n",
    "y_test = np.expand_dims(y_test, axis=1)\n",
    "\n",
    "\n",
    "#initial w\n",
    "w = np.zeros((x_train[0].size,1))\n",
    "\n",
    "def sigmoid(x):\n",
    "    return 1/(1+np.exp(-x))\n",
    "\n",
    "def gradient(w, x, y):\n",
    "    #print(w.shape, x.shape, y.shape)\n",
    "    gsum = (-y*x).T.dot(sigmoid(-y *np.dot(x,w)))\n",
    "    return gsum/len(y)\n",
    "    \n",
    "\n",
    "\n",
    "for t in range(times-1):\n",
    "    w = w- ita* gradient(w, x_train, y_train)\n",
    "    \n",
    "    y_hat = np.dot(x_train,w)\n",
    "    errorNum = np.sum(np.sign(y_hat)!=np.sign(y_train))\n",
    "    FGD_in_100.append(errorNum/len(y_train))\n",
    "\n",
    "    y_hat = np.dot(x_test,w)\n",
    "    errorNum = np.sum(np.sign(y_hat)!=np.sign(y_test))\n",
    "    FGD_out_100.append(errorNum/len(y_test))\n",
    "print(FGD_out_100[-1])"
   ]
  },
  {
   "cell_type": "markdown",
   "metadata": {},
   "source": [
    "## P20"
   ]
  },
  {
   "cell_type": "code",
   "execution_count": 10,
   "metadata": {},
   "outputs": [
    {
     "name": "stdout",
     "output_type": "stream",
     "text": [
      "0.475\n"
     ]
    }
   ],
   "source": [
    "ita = 0.001\n",
    "times = 2000\n",
    "SGD_in_1000 = []\n",
    "SGD_out_1000 = []\n",
    "\n",
    "x_train = np.concatenate((np.ones((train_r, 1)), train_data[:, : -1]), axis = 1)\n",
    "y_train = train_data[:,-1]\n",
    "y_train = np.expand_dims(y_train, axis=1)\n",
    "\n",
    "\n",
    "x_test = np.concatenate((np.ones((test_r, 1)), test_data[:, : -1]), axis = 1)\n",
    "y_test = test_data[:,-1]\n",
    "y_test = np.expand_dims(y_test, axis=1)\n",
    "\n",
    "#initial w\n",
    "w = np.zeros((x_train[0].size,1))\n",
    "\n",
    "def sigmoid(x):\n",
    "    return 1/(1+np.exp(-x))\n",
    "\n",
    "def gradient_one(w, x, y, t):\n",
    "    t = t%(len(y))\n",
    "    y =  np.expand_dims(y[t], axis=0)\n",
    "    x = np.expand_dims(x[t], axis=0)\n",
    "    gsum = (-y*x).T.dot(sigmoid(-y *np.dot(x,w)))\n",
    "    return gsum\n",
    "\n",
    "for t in range(times-1):\n",
    "    w = w- ita* gradient_one(w, x_train, y_train,t)\n",
    "    \n",
    "    y_hat = np.dot(x_test,w)\n",
    "    errorNum = np.sum(np.sign(y_hat)!=np.sign(y_test))\n",
    "    SGD_out_1000.append(errorNum/len(y_test))\n",
    "\n",
    "    y_hat = np.dot(x_train,w)\n",
    "    errorNum = np.sum(np.sign(y_hat)!=np.sign(y_train))\n",
    "    SGD_in_1000.append(errorNum/len(y_train))\n",
    "print(SGD_out_1000[-1])"
   ]
  },
  {
   "cell_type": "markdown",
   "metadata": {},
   "source": [
    "# Others"
   ]
  },
  {
   "cell_type": "code",
   "execution_count": 105,
   "metadata": {},
   "outputs": [],
   "source": [
    "ita = 0.01\n",
    "times = 2000\n",
    "SGD_in_100 = []\n",
    "SGD_out_100 = []\n",
    "\n",
    "x_train = np.concatenate((np.ones((train_r, 1)), train_data[:, : -1]), axis = 1)\n",
    "y_train = train_data[:,-1]\n",
    "y_train = np.expand_dims(y_train, axis=1)\n",
    "\n",
    "\n",
    "x_test = np.concatenate((np.ones((test_r, 1)), test_data[:, : -1]), axis = 1)\n",
    "y_test = test_data[:,-1]\n",
    "y_test = np.expand_dims(y_test, axis=1)\n",
    "\n",
    "#initial w\n",
    "w = np.zeros((x_train[0].size,1))\n",
    "\n",
    "def sigmoid(x):\n",
    "    return 1/(1+np.exp(-x))\n",
    "\n",
    "def gradient_one(w, x, y, t):\n",
    "    t = t%(len(y))\n",
    "    y =  np.expand_dims(y[t], axis=0)\n",
    "    x = np.expand_dims(x[t], axis=0)\n",
    "    gsum = (-y*x).T.dot(sigmoid(-y *np.dot(x,w)))\n",
    "    return gsum\n",
    "\n",
    "    \n",
    "for t in range(times-1):\n",
    "    w = w- ita* gradient_one(w, x_train, y_train,t)\n",
    "    \n",
    "    y_hat = np.dot(x_test,w)\n",
    "    errorNum = np.sum(np.sign(y_hat)!=np.sign(y_test))\n",
    "    SGD_out_100.append(errorNum/len(y_test))\n",
    "\n",
    "    y_hat = np.dot(x_train,w)\n",
    "    errorNum = np.sum(np.sign(y_hat)!=np.sign(y_train))\n",
    "    SGD_in_100.append(errorNum/len(y_train))\n"
   ]
  },
  {
   "cell_type": "code",
   "execution_count": 106,
   "metadata": {},
   "outputs": [
    {
     "name": "stdout",
     "output_type": "stream",
     "text": [
      "0.467\n",
      "0.467\n"
     ]
    },
    {
     "data": {
      "image/png": "[encoded data removed]",
      "text/plain": [
       "<Figure size 576x432 with 1 Axes>"
      ]
     },
     "metadata": {
      "needs_background": "light"
     },
     "output_type": "display_data"
    }
   ],
   "source": [
    "import matplotlib.pyplot as plt\n",
    "\n",
    "fig, ax = plt.subplots(figsize=(8,6))\n",
    "x = np.arange(1,2000)\n",
    "ax.plot(x,FGD_in_100,label=\"FGD_in_100\")\n",
    "ax.plot(x,SGD_in_1000, label = \"SGD_in_1000\")\n",
    "ax.set_xlabel(r't')\n",
    "ax.set_ylabel(r'$E_{in}({\\bf w}_t)$')\n",
    "ax.legend(loc='lower left')\n",
    "plt.savefig(\"Ein.png\")\n",
    "print(FGD_in_100[-1])\n",
    "print(SGD_in_1000[-1])"
   ]
  },
  {
   "cell_type": "code",
   "execution_count": 108,
   "metadata": {},
   "outputs": [
    {
     "name": "stdout",
     "output_type": "stream",
     "text": [
      "0.477\n",
      "0.477\n"
     ]
    },
    {
     "data": {
      "image/png": "[encoded data removed]",
      "text/plain": [
       "<Figure size 576x432 with 1 Axes>"
      ]
     },
     "metadata": {
      "needs_background": "light"
     },
     "output_type": "display_data"
    }
   ],
   "source": [
    "fig, ax = plt.subplots(figsize=(8,6))\n",
    "x = np.arange(1,2000)\n",
    "ax.plot(x,FGD_out_100,label=\"FGD_out_100\")\n",
    "ax.plot(x,SGD_out_1000, label=\"SGD_out_1000\")\n",
    "ax.set_xlabel(r't')\n",
    "ax.set_ylabel(r'$E_{out}({\\bf w}_t)$')\n",
    "ax.legend(loc='lower left')\n",
    "plt.savefig(\"Eout.png\")\n",
    "print(FGD_out_100[0])\n",
    "print(SGD_out_1000[0])"
   ]
  },
  {
   "cell_type": "code",
   "execution_count": 96,
   "metadata": {},
   "outputs": [
    {
     "data": {
      "image/png": "[encoded data removed]",
      "text/plain": [
       "<Figure size 432x288 with 1 Axes>"
      ]
     },
     "metadata": {
      "needs_background": "light"
     },
     "output_type": "display_data"
    }
   ],
   "source": [
    "fig, ax = plt.subplots()\n",
    "x = np.arange(1,2000)\n",
    "ax.plot(x,SGD_in_1000,label = \"SGD_in_1000\")\n",
    "ax.plot(x,SGD_out_1000, label = \"SGD_out_1000\")\n",
    "ax.legend(loc='lower left')\n",
    "plt.show()"
   ]
  }
 ],
 "metadata": {
  "kernelspec": {
   "display_name": "Python 3",
   "language": "python",
   "name": "python3"
  },
  "language_info": {
   "codemirror_mode": {
    "name": "ipython",
    "version": 3
   },
   "file_extension": ".py",
   "mimetype": "text/x-python",
   "name": "python",
   "nbconvert_exporter": "python",
   "pygments_lexer": "ipython3",
   "version": "3.6.8"
  }
 },
 "nbformat": 4,
 "nbformat_minor": 2
}
