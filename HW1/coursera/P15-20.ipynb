{
 "cells": [
  {
   "cell_type": "code",
   "execution_count": 1,
   "metadata": {},
   "outputs": [],
   "source": [
    "import numpy as np\n",
    "from random import randrange\n",
    "import statistics "
   ]
  },
  {
   "cell_type": "markdown",
   "metadata": {},
   "source": [
    "### P_15"
   ]
  },
  {
   "cell_type": "code",
   "execution_count": 2,
   "metadata": {},
   "outputs": [],
   "source": [
    "train_data = np.genfromtxt('hw1_15_train.dat')\n",
    "data_r,data_c = train_data.shape\n",
    "ptr = np.arange(data_r)"
   ]
  },
  {
   "cell_type": "code",
   "execution_count": 3,
   "metadata": {},
   "outputs": [],
   "source": [
    "def sign(Y):\n",
    "    if Y <= 0:\n",
    "        return -1\n",
    "    else:\n",
    "        return 1\n",
    "    \n",
    "def pla():\n",
    "    trans_cnt = 0\n",
    "    W = np.zeros(data_c)\n",
    "    #np.random.shuffle(ptr)\n",
    "    while True:\n",
    "        is_complete = True\n",
    "        test=0\n",
    "        for i in range(data_r):\n",
    "            X = train_data[i][:-1]\n",
    "            X = np.insert(X,0,1)\n",
    "            Y = np.dot(X,W)\n",
    "            if sign(Y) != train_data[i][-1]:\n",
    "                is_complete = False\n",
    "                W = W + train_data[i][-1]*np.array(X)\n",
    "                trans_cnt+=1\n",
    "        if is_complete == True:\n",
    "            break\n",
    "    return trans_cnt"
   ]
  },
  {
   "cell_type": "code",
   "execution_count": 4,
   "metadata": {},
   "outputs": [
    {
     "data": {
      "text/plain": [
       "45"
      ]
     },
     "execution_count": 4,
     "metadata": {},
     "output_type": "execute_result"
    }
   ],
   "source": [
    "pla()"
   ]
  },
  {
   "cell_type": "markdown",
   "metadata": {},
   "source": [
    "### P_16"
   ]
  },
  {
   "cell_type": "code",
   "execution_count": 5,
   "metadata": {},
   "outputs": [],
   "source": [
    "def pla():\n",
    "    trans_cnt = 0\n",
    "    W = np.zeros(data_c)\n",
    "    np.random.shuffle(ptr)\n",
    "    while True:\n",
    "        is_complete = True\n",
    "        test=0\n",
    "        for i in list(ptr):\n",
    "            X = train_data[i][:-1]\n",
    "            X = np.insert(X,0,1)\n",
    "            Y = np.dot(X,W)\n",
    "            if sign(Y) != train_data[i][-1]:\n",
    "                is_complete = False\n",
    "                W = W + train_data[i][-1]*np.array(X)\n",
    "                trans_cnt+=1\n",
    "        if is_complete == True:\n",
    "            break\n",
    "    return trans_cnt"
   ]
  },
  {
   "cell_type": "code",
   "execution_count": 6,
   "metadata": {},
   "outputs": [
    {
     "data": {
      "text/plain": [
       "40.3825"
      ]
     },
     "execution_count": 6,
     "metadata": {},
     "output_type": "execute_result"
    }
   ],
   "source": [
    "num_of_update=[]\n",
    "for j in range (2000):\n",
    "    num_of_update.append(pla())\n",
    "np.mean(num_of_update)"
   ]
  },
  {
   "cell_type": "markdown",
   "metadata": {},
   "source": [
    "### P_17"
   ]
  },
  {
   "cell_type": "code",
   "execution_count": 15,
   "metadata": {},
   "outputs": [],
   "source": [
    "def pla():\n",
    "    trans_cnt = 0\n",
    "    W = np.zeros(data_c)\n",
    "    np.random.shuffle(ptr)\n",
    "    while True:\n",
    "        is_complete = True\n",
    "        test=0\n",
    "        for i in list(ptr):\n",
    "            X = train_data[i][:-1]\n",
    "            X = np.insert(X,0,1)\n",
    "            Y = np.dot(X,W)\n",
    "            if sign(Y) != train_data[i][-1]:\n",
    "                is_complete = False\n",
    "                W = W + 0.5*train_data[i][-1]*np.array(X)\n",
    "                trans_cnt+=1\n",
    "        if is_complete == True:\n",
    "            break\n",
    "    return trans_cnt"
   ]
  },
  {
   "cell_type": "code",
   "execution_count": 16,
   "metadata": {},
   "outputs": [
    {
     "data": {
      "text/plain": [
       "40.085"
      ]
     },
     "execution_count": 16,
     "metadata": {},
     "output_type": "execute_result"
    }
   ],
   "source": [
    "num_of_update=[]\n",
    "for j in range (2000):\n",
    "    num_of_update.append(pla())\n",
    "np.mean(num_of_update)"
   ]
  },
  {
   "cell_type": "markdown",
   "metadata": {},
   "source": [
    "### P_18"
   ]
  },
  {
   "cell_type": "code",
   "execution_count": 16,
   "metadata": {},
   "outputs": [],
   "source": [
    "train_data = np.genfromtxt('hw1_18_train.dat')\n",
    "test_data = np.genfromtxt('hw1_18_test.dat')\n",
    "data_r,data_c = train_data.shape # the size of training data\n",
    "test_r,test_c = test_data.shape\n",
    "train_data = np.insert(train_data,0,1,axis=1)\n",
    "test_data = np.insert(test_data,0,1,axis=1)\n",
    "ptr = np.arange(data_r) #random order of input data"
   ]
  },
  {
   "cell_type": "code",
   "execution_count": 17,
   "metadata": {},
   "outputs": [],
   "source": [
    "def sign(Y):\n",
    "    if Y <= 0:\n",
    "        return -1\n",
    "    else:\n",
    "        return 1\n",
    "    \n",
    "def error_check(W,string):\n",
    "    if string == 'train':\n",
    "        data = train_data\n",
    "    elif string == 'test':\n",
    "        data = test_data\n",
    "    else:\n",
    "        print('need a string to define process: train/test')\n",
    "    cnt_error = 0\n",
    "    for i in range(data.shape[0]):\n",
    "        X = data[i][:-1]\n",
    "        Y = np.dot(X,W)\n",
    "        if sign(Y) != data[i][-1]:\n",
    "            cnt_error+=1\n",
    "    return cnt_error\n",
    "\n",
    "\n",
    "def pla_pocket():\n",
    "    trans_cnt = 0\n",
    "    error_curr = data_r\n",
    "    W = np.zeros(data_c)\n",
    "    np.random.shuffle(ptr)\n",
    "    while trans_cnt < 50:\n",
    "        test=0\n",
    "        for i in list(ptr):\n",
    "            X = train_data[i][:-1]\n",
    "            Y = np.dot(X,W)\n",
    "            if sign(Y) != train_data[i][-1]:\n",
    "                W = W + train_data[i][-1]*np.array(X)\n",
    "                trans_cnt+=1\n",
    "                tmp = error_check(W,'train')\n",
    "                if tmp < error_curr:\n",
    "                    W_hat = W\n",
    "                    error_curr = tmp\n",
    "                if trans_cnt >= 50:\n",
    "                    break\n",
    "    return W_hat"
   ]
  },
  {
   "cell_type": "code",
   "execution_count": 18,
   "metadata": {},
   "outputs": [
    {
     "data": {
      "text/plain": [
       "0.131136"
      ]
     },
     "execution_count": 18,
     "metadata": {},
     "output_type": "execute_result"
    }
   ],
   "source": [
    "W_hats=[]\n",
    "rate_of_error=[]\n",
    "for i in range (2000):\n",
    "    W_hats.append(pla_pocket())\n",
    "    \n",
    "for i in range(2000):\n",
    "    rate_of_error.append(error_check(W_hats[i],'test'))\n",
    "rate_of_error= np.array(rate_of_error)/data_r\n",
    "np.mean(rate_of_error)"
   ]
  },
  {
   "cell_type": "markdown",
   "metadata": {},
   "source": [
    "### P_19"
   ]
  },
  {
   "cell_type": "code",
   "execution_count": 19,
   "metadata": {},
   "outputs": [],
   "source": [
    "def pla_50():\n",
    "    trans_cnt = 0\n",
    "    W = np.zeros(data_c)\n",
    "    np.random.shuffle(ptr)\n",
    "    while trans_cnt < 50:\n",
    "        test=0\n",
    "        for i in list(ptr):\n",
    "            X = train_data[i][:-1]\n",
    "            Y = np.dot(X,W)\n",
    "            if sign(Y) != train_data[i][-1]:\n",
    "                W = W + train_data[i][-1]*np.array(X)\n",
    "                trans_cnt+=1\n",
    "                if trans_cnt >= 50:\n",
    "                    break\n",
    "    return W"
   ]
  },
  {
   "cell_type": "code",
   "execution_count": 20,
   "metadata": {},
   "outputs": [],
   "source": [
    "W_50=[]\n",
    "rate_of_error=[]\n",
    "for i in range (2000):\n",
    "    W_50.append(pla_50())\n",
    "    \n",
    "for i in range(2000):\n",
    "    rate_of_error.append(error_check(W_50[i],'test'))\n",
    "rate_of_error= np.array(rate_of_error)/data_r"
   ]
  },
  {
   "cell_type": "code",
   "execution_count": 21,
   "metadata": {},
   "outputs": [
    {
     "data": {
      "text/plain": [
       "0.36291700000000005"
      ]
     },
     "execution_count": 21,
     "metadata": {},
     "output_type": "execute_result"
    }
   ],
   "source": [
    "np.mean(rate_of_error)"
   ]
  },
  {
   "cell_type": "markdown",
   "metadata": {},
   "source": [
    "### P_20"
   ]
  },
  {
   "cell_type": "code",
   "execution_count": 13,
   "metadata": {},
   "outputs": [],
   "source": [
    "def error_check(W,string):\n",
    "    if string == 'train':\n",
    "        data = train_data\n",
    "    elif string == 'test':\n",
    "        data = test_data\n",
    "    else:\n",
    "        print('need a string to define process: train/test')\n",
    "    cnt_error = 0\n",
    "    for i in range(data_r):\n",
    "        X = data[i][:-1]\n",
    "        Y = np.dot(X,W)\n",
    "        if sign(Y) != data[i][-1]:\n",
    "            cnt_error+=1\n",
    "    return cnt_error\n",
    "\n",
    "\n",
    "def pla_pocket():\n",
    "    trans_cnt = 0\n",
    "    error_curr = data_r\n",
    "    W = np.zeros(data_c)\n",
    "    np.random.shuffle(ptr)\n",
    "    while trans_cnt < 100:\n",
    "        test=0\n",
    "        for i in list(ptr):\n",
    "            X = train_data[i][:-1]\n",
    "            Y = np.dot(X,W)\n",
    "            if sign(Y) != train_data[i][-1]:\n",
    "                W = W + train_data[i][-1]*np.array(X)\n",
    "                trans_cnt+=1\n",
    "                tmp = error_check(W,'train')\n",
    "                if tmp < error_curr:\n",
    "                    W_hat = W\n",
    "                    error_curr = tmp\n",
    "                if trans_cnt >= 100:\n",
    "                    break\n",
    "    return W_hat"
   ]
  },
  {
   "cell_type": "code",
   "execution_count": 14,
   "metadata": {},
   "outputs": [
    {
     "data": {
      "text/plain": [
       "0.11327200000000003"
      ]
     },
     "execution_count": 14,
     "metadata": {},
     "output_type": "execute_result"
    }
   ],
   "source": [
    "W_hats=[]\n",
    "rate_of_error=[]\n",
    "for i in range (2000):\n",
    "    W_hats.append(pla_pocket())\n",
    "    \n",
    "for i in range(2000):\n",
    "    rate_of_error.append(error_check(W_hats[i],'test'))\n",
    "rate_of_error= np.array(rate_of_error)/data_r\n",
    "np.mean(rate_of_error)"
   ]
  }
 ],
 "metadata": {
  "kernelspec": {
   "display_name": "Python 3",
   "language": "python",
   "name": "python3"
  },
  "language_info": {
   "codemirror_mode": {
    "name": "ipython",
    "version": 3
   },
   "file_extension": ".py",
   "mimetype": "text/x-python",
   "name": "python",
   "nbconvert_exporter": "python",
   "pygments_lexer": "ipython3",
   "version": "3.6.8"
  }
 },
 "nbformat": 4,
 "nbformat_minor": 2
}
